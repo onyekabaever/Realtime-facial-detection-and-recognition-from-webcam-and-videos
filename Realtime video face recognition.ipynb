{
 "cells": [
  {
   "cell_type": "markdown",
   "id": "d00f1989",
   "metadata": {},
   "source": [
    "# Realtime video face reconition using face_recognition library"
   ]
  },
  {
   "cell_type": "markdown",
   "id": "7d60d2d8",
   "metadata": {},
   "source": [
    "### Import library"
   ]
  },
  {
   "cell_type": "code",
   "execution_count": 16,
   "id": "14174a6a",
   "metadata": {},
   "outputs": [],
   "source": [
    "import cv2\n",
    "import face_recognition"
   ]
  },
  {
   "cell_type": "markdown",
   "id": "ba21247b",
   "metadata": {},
   "source": [
    "### Load the video file"
   ]
  },
  {
   "cell_type": "code",
   "execution_count": 17,
   "id": "e45b56fe",
   "metadata": {},
   "outputs": [],
   "source": [
    "video_location = \"video/test_video.mp4\" \n",
    "video_capture = cv2.VideoCapture(video_location)"
   ]
  },
  {
   "cell_type": "markdown",
   "id": "e7f622e2",
   "metadata": {},
   "source": [
    "### Initialize variable to hold all the face"
   ]
  },
  {
   "cell_type": "code",
   "execution_count": 18,
   "id": "097fad21",
   "metadata": {},
   "outputs": [],
   "source": [
    "face_locations = []"
   ]
  },
  {
   "cell_type": "markdown",
   "id": "f3fe7ca4",
   "metadata": {},
   "source": [
    "### Loop through every frame in the video"
   ]
  },
  {
   "cell_type": "code",
   "execution_count": 19,
   "id": "297a2acd",
   "metadata": {},
   "outputs": [],
   "source": [
    "while True:\n",
    "    # Read the video frame-by-frame\n",
    "    ret, frame = video_capture.read()\n",
    "\n",
    "    # Break the loop if the video has ended\n",
    "    if not ret:\n",
    "        break\n",
    "\n",
    "    # Resize frame for faster face detection\n",
    "    small_frame = cv2.resize(frame, (0, 0), fx=0.5, fy=0.5)\n",
    "\n",
    "    # Find all face locations in the current frame using a less accurate but faster model\n",
    "    face_locations = face_recognition.face_locations(small_frame, model=\"hog\")\n",
    "\n",
    "    # Draw rectangles around the faces\n",
    "    for (top, right, bottom, left) in face_locations:\n",
    "        top *= 2\n",
    "        right *= 2\n",
    "        bottom *= 2\n",
    "        left *= 2\n",
    "\n",
    "        # Draw a rectangle around the face\n",
    "        cv2.rectangle(frame, (left, top), (right, bottom), (0, 0, 255), 2)\n",
    "\n",
    "    # Display the resulting frame\n",
    "    cv2.imshow('Video', frame)\n",
    "\n",
    "    # Break the loop if 'q' key is pressed\n",
    "    if cv2.waitKey(1) & 0xFF == ord('x'):\n",
    "        break\n",
    "\n",
    "# Release the video capture object and close the window\n",
    "video_capture.release()\n",
    "cv2.destroyAllWindows()"
   ]
  },
  {
   "cell_type": "code",
   "execution_count": null,
   "id": "b05088a4",
   "metadata": {},
   "outputs": [],
   "source": []
  }
 ],
 "metadata": {
  "kernelspec": {
   "display_name": "Python 3 (ipykernel)",
   "language": "python",
   "name": "python3"
  },
  "language_info": {
   "codemirror_mode": {
    "name": "ipython",
    "version": 3
   },
   "file_extension": ".py",
   "mimetype": "text/x-python",
   "name": "python",
   "nbconvert_exporter": "python",
   "pygments_lexer": "ipython3",
   "version": "3.10.9"
  }
 },
 "nbformat": 4,
 "nbformat_minor": 5
}
