{
 "cells": [
  {
   "cell_type": "markdown",
   "id": "7899d6f5",
   "metadata": {},
   "source": [
    "# Realtime facial recognition from camera using face recognition"
   ]
  },
  {
   "cell_type": "markdown",
   "id": "f2698238",
   "metadata": {},
   "source": [
    "### Import libraries"
   ]
  },
  {
   "cell_type": "code",
   "execution_count": 1,
   "id": "51819ccf",
   "metadata": {},
   "outputs": [],
   "source": [
    "import cv2\n",
    "import face_recognition"
   ]
  },
  {
   "cell_type": "markdown",
   "id": "da8f0033",
   "metadata": {},
   "source": [
    "### Load known face and corresponding name"
   ]
  },
  {
   "cell_type": "code",
   "execution_count": 2,
   "id": "4d3addf6",
   "metadata": {},
   "outputs": [],
   "source": [
    "known_faces = []\n",
    "known_names = []"
   ]
  },
  {
   "cell_type": "markdown",
   "id": "baf4ab20",
   "metadata": {},
   "source": [
    "### Loading image and name"
   ]
  },
  {
   "cell_type": "code",
   "execution_count": 3,
   "id": "522199e1",
   "metadata": {},
   "outputs": [],
   "source": [
    "load_face = face_recognition.load_image_file(\"images/ever1.jpg\")\n",
    "load_face_encoding = face_recognition.face_encodings(load_face)[0]\n",
    "known_faces.append(load_face_encoding)\n",
    "known_names.append(\"Onyekaba Everistus\")\n",
    "\n",
    "# you can add more known faces in a similar manner"
   ]
  },
  {
   "cell_type": "markdown",
   "id": "28e63fa2",
   "metadata": {},
   "source": [
    "### Web camera capturing"
   ]
  },
  {
   "cell_type": "code",
   "execution_count": 5,
   "id": "7da1a47a",
   "metadata": {},
   "outputs": [],
   "source": [
    "# Get a reference to the webcam (0 represents the default camera)\n",
    "video_capture = cv2.VideoCapture(0)\n",
    "\n",
    "while True:\n",
    "    # Capture each frame from the webcam\n",
    "    ret, frame = video_capture.read()\n",
    "\n",
    "    # Find all face locations in the current frame\n",
    "    face_locations = face_recognition.face_locations(frame)\n",
    "    face_encodings = face_recognition.face_encodings(frame, face_locations)\n",
    "\n",
    "    # Loop through each face found in the frame\n",
    "    for (top, right, bottom, left), face_encoding in zip(face_locations, face_encodings):\n",
    "        # Check if the face matches any known faces\n",
    "        matches = face_recognition.compare_faces(known_faces, face_encoding)\n",
    "        name = \"Unknown\"\n",
    "\n",
    "        # If a match is found, use the name of the known face\n",
    "        if True in matches:\n",
    "            first_match_index = matches.index(True)\n",
    "            name = known_names[first_match_index]\n",
    "\n",
    "        # Draw a rectangle around the face\n",
    "        cv2.rectangle(frame, (left, top), (right, bottom), (0, 255, 0), 2)\n",
    "\n",
    "        # Draw the name of the recognized person\n",
    "        font = cv2.FONT_HERSHEY_DUPLEX\n",
    "        cv2.putText(frame, name, (left + 6, bottom - 6), font, 0.5, (255, 255, 255), 1)\n",
    "\n",
    "    # Display the resulting frame\n",
    "    cv2.imshow('Video', frame)\n",
    "    \n",
    "\n",
    "    # Break the loop when the 'x' key is pressed\n",
    "    if cv2.waitKey(1) & 0xFF == ord('x'):\n",
    "        break\n",
    "\n",
    "# Release the webcam and close the OpenCV window\n",
    "video_capture.release()\n",
    "cv2.destroyAllWindows()"
   ]
  },
  {
   "cell_type": "code",
   "execution_count": null,
   "id": "d6d26ed7",
   "metadata": {},
   "outputs": [],
   "source": []
  }
 ],
 "metadata": {
  "kernelspec": {
   "display_name": "Python 3 (ipykernel)",
   "language": "python",
   "name": "python3"
  },
  "language_info": {
   "codemirror_mode": {
    "name": "ipython",
    "version": 3
   },
   "file_extension": ".py",
   "mimetype": "text/x-python",
   "name": "python",
   "nbconvert_exporter": "python",
   "pygments_lexer": "ipython3",
   "version": "3.10.9"
  }
 },
 "nbformat": 4,
 "nbformat_minor": 5
}
